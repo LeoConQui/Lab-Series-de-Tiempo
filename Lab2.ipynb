{
 "cells": [
  {
   "cell_type": "markdown",
   "id": "1078a6d2",
   "metadata": {},
   "source": [
    "# Gasolina Superior con aditivo y Gasolina Superior"
   ]
  },
  {
   "cell_type": "code",
   "execution_count": 1,
   "id": "db831f71",
   "metadata": {},
   "outputs": [],
   "source": [
    "import pandas as pd\n",
    "# Leer la primer hoja del archivo .xls y cargar los datos en un DataFrame\n",
    "df = pd.read_excel(\"Precios-Mensuales-promedio-combustibles-Ciudad-de-Guatemala-mayo-2023-SERVICIO-COMPLETO.xlsx\", skiprows=[0])\n",
    "#df_copy = df.copy()\n",
    "\n",
    "#df"
   ]
  },
  {
   "cell_type": "code",
   "execution_count": 2,
   "id": "1d9449bc",
   "metadata": {
    "scrolled": true
   },
   "outputs": [],
   "source": [
    "# eliminamos la columna 1 y 6 de df\n",
    "df.reset_index(drop=True, inplace=True)\n",
    "df.drop(df.columns[[1, 6]], axis=1, inplace=True)\n",
    "#df"
   ]
  },
  {
   "cell_type": "code",
   "execution_count": 3,
   "id": "532dd663",
   "metadata": {},
   "outputs": [],
   "source": [
    "# separamos el dataframe anterior en dos dataframes, uno para los datos de la gasolina superior con aditivio\n",
    "# otro para los datos de la gasolina superior\n",
    "gasolina_superior_con_aditivo = df.iloc[0:12]\n",
    "gasolina_superior = df.iloc[15:27]"
   ]
  },
  {
   "cell_type": "code",
   "execution_count": 4,
   "id": "57115096",
   "metadata": {
    "scrolled": true
   },
   "outputs": [
    {
     "name": "stderr",
     "output_type": "stream",
     "text": [
      "/var/folders/04/fryprmks7_573d9qxr1s6bjh0000gn/T/ipykernel_984/338672007.py:3: SettingWithCopyWarning: \n",
      "A value is trying to be set on a copy of a slice from a DataFrame.\n",
      "Try using .loc[row_indexer,col_indexer] = value instead\n",
      "\n",
      "See the caveats in the documentation: https://pandas.pydata.org/pandas-docs/stable/user_guide/indexing.html#returning-a-view-versus-a-copy\n",
      "  gasolina_superior_con_aditivo.iloc[:, 1:last_col_index] = gasolina_superior_con_aditivo.iloc[:, 1:last_col_index].fillna(method='ffill', axis=1)\n"
     ]
    }
   ],
   "source": [
    "# quitamos los na de gasolina_superior_con_aditivo usando ffill\n",
    "last_col_index = len(df.columns) - 1\n",
    "gasolina_superior_con_aditivo.iloc[:, 1:last_col_index] = gasolina_superior_con_aditivo.iloc[:, 1:last_col_index].fillna(method='ffill', axis=1)"
   ]
  },
  {
   "cell_type": "code",
   "execution_count": 5,
   "id": "72a910a9",
   "metadata": {
    "scrolled": true
   },
   "outputs": [],
   "source": [
    "# visualizamos los datos de la gasolina superior con aditivo\n",
    "#gasolina_superior_con_aditivo"
   ]
  },
  {
   "cell_type": "code",
   "execution_count": 6,
   "id": "bdd0b356",
   "metadata": {},
   "outputs": [
    {
     "name": "stdout",
     "output_type": "stream",
     "text": [
      "[0, 1, 2, 3, 4, 5, 6, 7, 8, 9, 10, 11]\n"
     ]
    }
   ],
   "source": [
    "# creamos una lista con los anos 2001-2023 y los meses\n",
    "anos = list(range(2001, 2024))\n",
    "print(list(range(0, 12)))\n",
    "meses = list(range(1, 13))"
   ]
  },
  {
   "cell_type": "code",
   "execution_count": 7,
   "id": "14423f0a",
   "metadata": {},
   "outputs": [
    {
     "name": "stdout",
     "output_type": "stream",
     "text": [
      "       Fecha  Precio\n",
      "0     2001-1   14.92\n",
      "1     2001-2   15.17\n",
      "2     2001-3   14.97\n",
      "3     2001-4   14.91\n",
      "4     2001-5   16.26\n",
      "..       ...     ...\n",
      "271   2023-8     NaN\n",
      "272   2023-9     NaN\n",
      "273  2023-10     NaN\n",
      "274  2023-11     NaN\n",
      "275  2023-12     NaN\n",
      "\n",
      "[276 rows x 2 columns]\n"
     ]
    }
   ],
   "source": [
    "# convertimos al formato ano-mes\n",
    "# creamos dos listas para guardar la fecha y el respectivo precio\n",
    "fechas = []\n",
    "precios = []\n",
    "# recorremos un ciclo con los 23 anos del dataframe\n",
    "for i in range(1, 24):\n",
    "    # recorremos los 12 meses del ano\n",
    "    for j in range(0, 12):\n",
    "        # Append the data to the lists\n",
    "        fechas.append(str(anos[i - 1]) + \"-\" + str(meses[j]))\n",
    "        precios.append(gasolina_superior_con_aditivo.iloc[j, i])\n",
    "\n",
    "# Create a new dataframe with the collected data\n",
    "datos_gas_sup_ad = pd.DataFrame({'Fecha': fechas, 'Precio': precios})\n",
    "\n",
    "# Display the new dataframe\n",
    "print(datos_gas_sup_ad)\n"
   ]
  },
  {
   "cell_type": "code",
   "execution_count": 8,
   "id": "2a2521ef",
   "metadata": {
    "scrolled": false
   },
   "outputs": [
    {
     "name": "stderr",
     "output_type": "stream",
     "text": [
      "/var/folders/04/fryprmks7_573d9qxr1s6bjh0000gn/T/ipykernel_984/2790064757.py:3: SettingWithCopyWarning: \n",
      "A value is trying to be set on a copy of a slice from a DataFrame.\n",
      "Try using .loc[row_indexer,col_indexer] = value instead\n",
      "\n",
      "See the caveats in the documentation: https://pandas.pydata.org/pandas-docs/stable/user_guide/indexing.html#returning-a-view-versus-a-copy\n",
      "  gasolina_superior.iloc[:, 1:last_col_index] = gasolina_superior.iloc[:, 1:last_col_index].fillna(method='ffill', axis=1)\n"
     ]
    }
   ],
   "source": [
    "# quitamos los na del dataframe usando el metodo forward fill\n",
    "last_col_index = len(df.columns) - 1\n",
    "gasolina_superior.iloc[:, 1:last_col_index] = gasolina_superior.iloc[:, 1:last_col_index].fillna(method='ffill', axis=1)"
   ]
  },
  {
   "cell_type": "code",
   "execution_count": 9,
   "id": "039edd25",
   "metadata": {
    "scrolled": true
   },
   "outputs": [
    {
     "data": {
      "text/html": [
       "<div>\n",
       "<style scoped>\n",
       "    .dataframe tbody tr th:only-of-type {\n",
       "        vertical-align: middle;\n",
       "    }\n",
       "\n",
       "    .dataframe tbody tr th {\n",
       "        vertical-align: top;\n",
       "    }\n",
       "\n",
       "    .dataframe thead th {\n",
       "        text-align: right;\n",
       "    }\n",
       "</style>\n",
       "<table border=\"1\" class=\"dataframe\">\n",
       "  <thead>\n",
       "    <tr style=\"text-align: right;\">\n",
       "      <th></th>\n",
       "      <th>MES/AÑO</th>\n",
       "      <th>2001</th>\n",
       "      <th>2002</th>\n",
       "      <th>2003</th>\n",
       "      <th>2004</th>\n",
       "      <th>2005</th>\n",
       "      <th>2006</th>\n",
       "      <th>2007</th>\n",
       "      <th>2008</th>\n",
       "      <th>2009</th>\n",
       "      <th>...</th>\n",
       "      <th>2014</th>\n",
       "      <th>2015</th>\n",
       "      <th>2016</th>\n",
       "      <th>2017</th>\n",
       "      <th>2018</th>\n",
       "      <th>2019</th>\n",
       "      <th>2020</th>\n",
       "      <th>2021</th>\n",
       "      <th>2022</th>\n",
       "      <th>2023</th>\n",
       "    </tr>\n",
       "  </thead>\n",
       "  <tbody>\n",
       "    <tr>\n",
       "      <th>15</th>\n",
       "      <td>ENERO</td>\n",
       "      <td>14.41</td>\n",
       "      <td>12.94</td>\n",
       "      <td>15.80</td>\n",
       "      <td>16.24</td>\n",
       "      <td>19.09</td>\n",
       "      <td>22.65</td>\n",
       "      <td>22.99</td>\n",
       "      <td>28.89</td>\n",
       "      <td>21.58</td>\n",
       "      <td>...</td>\n",
       "      <td>34.84</td>\n",
       "      <td>21.74</td>\n",
       "      <td>20.39</td>\n",
       "      <td>24.69</td>\n",
       "      <td>25.83</td>\n",
       "      <td>23.03</td>\n",
       "      <td>25.60</td>\n",
       "      <td>23.82</td>\n",
       "      <td>31.41</td>\n",
       "      <td>35.12</td>\n",
       "    </tr>\n",
       "    <tr>\n",
       "      <th>16</th>\n",
       "      <td>FEBRERO</td>\n",
       "      <td>14.66</td>\n",
       "      <td>12.76</td>\n",
       "      <td>16.64</td>\n",
       "      <td>17.49</td>\n",
       "      <td>18.60</td>\n",
       "      <td>22.35</td>\n",
       "      <td>22.04</td>\n",
       "      <td>28.71</td>\n",
       "      <td>21.35</td>\n",
       "      <td>...</td>\n",
       "      <td>33.93</td>\n",
       "      <td>23.25</td>\n",
       "      <td>19.38</td>\n",
       "      <td>23.88</td>\n",
       "      <td>25.78</td>\n",
       "      <td>23.87</td>\n",
       "      <td>24.51</td>\n",
       "      <td>25.53</td>\n",
       "      <td>33.84</td>\n",
       "      <td>35.03</td>\n",
       "    </tr>\n",
       "    <tr>\n",
       "      <th>17</th>\n",
       "      <td>MARZO</td>\n",
       "      <td>14.49</td>\n",
       "      <td>13.04</td>\n",
       "      <td>17.79</td>\n",
       "      <td>18.11</td>\n",
       "      <td>19.76</td>\n",
       "      <td>22.16</td>\n",
       "      <td>23.13</td>\n",
       "      <td>30.04</td>\n",
       "      <td>21.05</td>\n",
       "      <td>...</td>\n",
       "      <td>34.26</td>\n",
       "      <td>24.99</td>\n",
       "      <td>21.02</td>\n",
       "      <td>23.42</td>\n",
       "      <td>25.80</td>\n",
       "      <td>25.80</td>\n",
       "      <td>23.60</td>\n",
       "      <td>27.70</td>\n",
       "      <td>39.12</td>\n",
       "      <td>34.40</td>\n",
       "    </tr>\n",
       "    <tr>\n",
       "      <th>18</th>\n",
       "      <td>ABRIL</td>\n",
       "      <td>14.46</td>\n",
       "      <td>14.60</td>\n",
       "      <td>17.01</td>\n",
       "      <td>18.48</td>\n",
       "      <td>21.94</td>\n",
       "      <td>24.48</td>\n",
       "      <td>25.53</td>\n",
       "      <td>31.69</td>\n",
       "      <td>21.57</td>\n",
       "      <td>...</td>\n",
       "      <td>35.08</td>\n",
       "      <td>25.55</td>\n",
       "      <td>22.25</td>\n",
       "      <td>24.20</td>\n",
       "      <td>27.10</td>\n",
       "      <td>27.82</td>\n",
       "      <td>18.97</td>\n",
       "      <td>28.03</td>\n",
       "      <td>38.83</td>\n",
       "      <td>36.33</td>\n",
       "    </tr>\n",
       "    <tr>\n",
       "      <th>19</th>\n",
       "      <td>MAYO</td>\n",
       "      <td>15.76</td>\n",
       "      <td>14.65</td>\n",
       "      <td>15.92</td>\n",
       "      <td>18.89</td>\n",
       "      <td>22.48</td>\n",
       "      <td>26.85</td>\n",
       "      <td>27.59</td>\n",
       "      <td>33.12</td>\n",
       "      <td>22.81</td>\n",
       "      <td>...</td>\n",
       "      <td>34.70</td>\n",
       "      <td>26.86</td>\n",
       "      <td>23.10</td>\n",
       "      <td>23.64</td>\n",
       "      <td>28.29</td>\n",
       "      <td>27.88</td>\n",
       "      <td>18.74</td>\n",
       "      <td>28.80</td>\n",
       "      <td>42.14</td>\n",
       "      <td>34.90</td>\n",
       "    </tr>\n",
       "    <tr>\n",
       "      <th>20</th>\n",
       "      <td>JUNIO</td>\n",
       "      <td>15.76</td>\n",
       "      <td>14.49</td>\n",
       "      <td>15.07</td>\n",
       "      <td>19.24</td>\n",
       "      <td>22.22</td>\n",
       "      <td>26.77</td>\n",
       "      <td>28.69</td>\n",
       "      <td>35.51</td>\n",
       "      <td>23.91</td>\n",
       "      <td>...</td>\n",
       "      <td>35.36</td>\n",
       "      <td>27.10</td>\n",
       "      <td>23.66</td>\n",
       "      <td>23.33</td>\n",
       "      <td>27.95</td>\n",
       "      <td>26.44</td>\n",
       "      <td>21.08</td>\n",
       "      <td>28.85</td>\n",
       "      <td>41.19</td>\n",
       "      <td>NaN</td>\n",
       "    </tr>\n",
       "    <tr>\n",
       "      <th>21</th>\n",
       "      <td>JULIO</td>\n",
       "      <td>15.12</td>\n",
       "      <td>14.86</td>\n",
       "      <td>15.10</td>\n",
       "      <td>19.16</td>\n",
       "      <td>22.23</td>\n",
       "      <td>26.58</td>\n",
       "      <td>28.41</td>\n",
       "      <td>36.42</td>\n",
       "      <td>26.56</td>\n",
       "      <td>...</td>\n",
       "      <td>35.61</td>\n",
       "      <td>27.14</td>\n",
       "      <td>22.53</td>\n",
       "      <td>23.15</td>\n",
       "      <td>27.87</td>\n",
       "      <td>27.13</td>\n",
       "      <td>22.55</td>\n",
       "      <td>29.49</td>\n",
       "      <td>36.41</td>\n",
       "      <td>NaN</td>\n",
       "    </tr>\n",
       "    <tr>\n",
       "      <th>22</th>\n",
       "      <td>AGOSTO</td>\n",
       "      <td>14.32</td>\n",
       "      <td>15.68</td>\n",
       "      <td>15.54</td>\n",
       "      <td>19.04</td>\n",
       "      <td>22.89</td>\n",
       "      <td>28.12</td>\n",
       "      <td>27.91</td>\n",
       "      <td>35.78</td>\n",
       "      <td>26.58</td>\n",
       "      <td>...</td>\n",
       "      <td>34.03</td>\n",
       "      <td>25.20</td>\n",
       "      <td>22.34</td>\n",
       "      <td>23.73</td>\n",
       "      <td>27.95</td>\n",
       "      <td>26.07</td>\n",
       "      <td>22.33</td>\n",
       "      <td>29.91</td>\n",
       "      <td>36.06</td>\n",
       "      <td>NaN</td>\n",
       "    </tr>\n",
       "    <tr>\n",
       "      <th>23</th>\n",
       "      <td>SEPTIEMBRE</td>\n",
       "      <td>14.50</td>\n",
       "      <td>15.63</td>\n",
       "      <td>16.81</td>\n",
       "      <td>18.91</td>\n",
       "      <td>25.27</td>\n",
       "      <td>27.29</td>\n",
       "      <td>27.16</td>\n",
       "      <td>34.83</td>\n",
       "      <td>26.71</td>\n",
       "      <td>...</td>\n",
       "      <td>33.11</td>\n",
       "      <td>23.27</td>\n",
       "      <td>22.99</td>\n",
       "      <td>25.32</td>\n",
       "      <td>28.21</td>\n",
       "      <td>25.85</td>\n",
       "      <td>22.14</td>\n",
       "      <td>30.23</td>\n",
       "      <td>35.21</td>\n",
       "      <td>NaN</td>\n",
       "    </tr>\n",
       "    <tr>\n",
       "      <th>24</th>\n",
       "      <td>OCTUBRE</td>\n",
       "      <td>14.48</td>\n",
       "      <td>16.00</td>\n",
       "      <td>16.60</td>\n",
       "      <td>19.48</td>\n",
       "      <td>27.22</td>\n",
       "      <td>24.73</td>\n",
       "      <td>27.34</td>\n",
       "      <td>31.29</td>\n",
       "      <td>26.02</td>\n",
       "      <td>...</td>\n",
       "      <td>31.35</td>\n",
       "      <td>22.86</td>\n",
       "      <td>23.36</td>\n",
       "      <td>24.44</td>\n",
       "      <td>28.54</td>\n",
       "      <td>25.61</td>\n",
       "      <td>22.30</td>\n",
       "      <td>31.00</td>\n",
       "      <td>37.33</td>\n",
       "      <td>NaN</td>\n",
       "    </tr>\n",
       "    <tr>\n",
       "      <th>25</th>\n",
       "      <td>NOVIEMBRE</td>\n",
       "      <td>13.99</td>\n",
       "      <td>16.12</td>\n",
       "      <td>16.28</td>\n",
       "      <td>20.31</td>\n",
       "      <td>25.95</td>\n",
       "      <td>23.18</td>\n",
       "      <td>28.24</td>\n",
       "      <td>26.29</td>\n",
       "      <td>27.73</td>\n",
       "      <td>...</td>\n",
       "      <td>29.38</td>\n",
       "      <td>21.97</td>\n",
       "      <td>22.68</td>\n",
       "      <td>25.37</td>\n",
       "      <td>25.87</td>\n",
       "      <td>25.54</td>\n",
       "      <td>21.21</td>\n",
       "      <td>31.55</td>\n",
       "      <td>37.39</td>\n",
       "      <td>NaN</td>\n",
       "    </tr>\n",
       "    <tr>\n",
       "      <th>26</th>\n",
       "      <td>DICIEMBRE</td>\n",
       "      <td>13.21</td>\n",
       "      <td>15.90</td>\n",
       "      <td>15.89</td>\n",
       "      <td>20.03</td>\n",
       "      <td>23.29</td>\n",
       "      <td>23.15</td>\n",
       "      <td>29.04</td>\n",
       "      <td>22.55</td>\n",
       "      <td>27.42</td>\n",
       "      <td>...</td>\n",
       "      <td>25.88</td>\n",
       "      <td>21.03</td>\n",
       "      <td>23.61</td>\n",
       "      <td>25.11</td>\n",
       "      <td>23.81</td>\n",
       "      <td>25.39</td>\n",
       "      <td>22.76</td>\n",
       "      <td>29.82</td>\n",
       "      <td>34.66</td>\n",
       "      <td>NaN</td>\n",
       "    </tr>\n",
       "  </tbody>\n",
       "</table>\n",
       "<p>12 rows × 24 columns</p>\n",
       "</div>"
      ],
      "text/plain": [
       "       MES/AÑO   2001   2002   2003   2004   2005   2006   2007   2008   2009  \\\n",
       "15       ENERO  14.41  12.94  15.80  16.24  19.09  22.65  22.99  28.89  21.58   \n",
       "16     FEBRERO  14.66  12.76  16.64  17.49  18.60  22.35  22.04  28.71  21.35   \n",
       "17       MARZO  14.49  13.04  17.79  18.11  19.76  22.16  23.13  30.04  21.05   \n",
       "18       ABRIL  14.46  14.60  17.01  18.48  21.94  24.48  25.53  31.69  21.57   \n",
       "19        MAYO  15.76  14.65  15.92  18.89  22.48  26.85  27.59  33.12  22.81   \n",
       "20       JUNIO  15.76  14.49  15.07  19.24  22.22  26.77  28.69  35.51  23.91   \n",
       "21       JULIO  15.12  14.86  15.10  19.16  22.23  26.58  28.41  36.42  26.56   \n",
       "22      AGOSTO  14.32  15.68  15.54  19.04  22.89  28.12  27.91  35.78  26.58   \n",
       "23  SEPTIEMBRE  14.50  15.63  16.81  18.91  25.27  27.29  27.16  34.83  26.71   \n",
       "24     OCTUBRE  14.48  16.00  16.60  19.48  27.22  24.73  27.34  31.29  26.02   \n",
       "25   NOVIEMBRE  13.99  16.12  16.28  20.31  25.95  23.18  28.24  26.29  27.73   \n",
       "26   DICIEMBRE  13.21  15.90  15.89  20.03  23.29  23.15  29.04  22.55  27.42   \n",
       "\n",
       "    ...   2014   2015   2016   2017   2018   2019   2020   2021   2022   2023  \n",
       "15  ...  34.84  21.74  20.39  24.69  25.83  23.03  25.60  23.82  31.41  35.12  \n",
       "16  ...  33.93  23.25  19.38  23.88  25.78  23.87  24.51  25.53  33.84  35.03  \n",
       "17  ...  34.26  24.99  21.02  23.42  25.80  25.80  23.60  27.70  39.12  34.40  \n",
       "18  ...  35.08  25.55  22.25  24.20  27.10  27.82  18.97  28.03  38.83  36.33  \n",
       "19  ...  34.70  26.86  23.10  23.64  28.29  27.88  18.74  28.80  42.14  34.90  \n",
       "20  ...  35.36  27.10  23.66  23.33  27.95  26.44  21.08  28.85  41.19    NaN  \n",
       "21  ...  35.61  27.14  22.53  23.15  27.87  27.13  22.55  29.49  36.41    NaN  \n",
       "22  ...  34.03  25.20  22.34  23.73  27.95  26.07  22.33  29.91  36.06    NaN  \n",
       "23  ...  33.11  23.27  22.99  25.32  28.21  25.85  22.14  30.23  35.21    NaN  \n",
       "24  ...  31.35  22.86  23.36  24.44  28.54  25.61  22.30  31.00  37.33    NaN  \n",
       "25  ...  29.38  21.97  22.68  25.37  25.87  25.54  21.21  31.55  37.39    NaN  \n",
       "26  ...  25.88  21.03  23.61  25.11  23.81  25.39  22.76  29.82  34.66    NaN  \n",
       "\n",
       "[12 rows x 24 columns]"
      ]
     },
     "execution_count": 9,
     "metadata": {},
     "output_type": "execute_result"
    }
   ],
   "source": [
    "# visualizamos los datos\n",
    "gasolina_superior"
   ]
  },
  {
   "cell_type": "code",
   "execution_count": 10,
   "id": "14a6161e",
   "metadata": {},
   "outputs": [
    {
     "name": "stdout",
     "output_type": "stream",
     "text": [
      "       Fecha  Precio\n",
      "0     2001-1   14.41\n",
      "1     2001-2   14.66\n",
      "2     2001-3   14.49\n",
      "3     2001-4   14.46\n",
      "4     2001-5   15.76\n",
      "..       ...     ...\n",
      "271   2023-8     NaN\n",
      "272   2023-9     NaN\n",
      "273  2023-10     NaN\n",
      "274  2023-11     NaN\n",
      "275  2023-12     NaN\n",
      "\n",
      "[276 rows x 2 columns]\n"
     ]
    }
   ],
   "source": [
    "# Convertimos al formato ano-mes\n",
    "# creamos dos listas para guardar la fecha y el respectivo precio\n",
    "fechas2 = []\n",
    "precios2 = []\n",
    "\n",
    "# recorremos un ciclo con los 23 anos del dataframe\n",
    "for i in range(1, 24):\n",
    "    # recorremos los 12 meses del ano\n",
    "    for j in range(0, 12):\n",
    "        # Append the data to the lists\n",
    "        fechas2.append(str(anos[i - 1]) + \"-\" + str(meses[j]))\n",
    "        precios2.append(gasolina_superior.iloc[j, i])\n",
    "\n",
    "# Create a new dataframe with the collected data\n",
    "datos_gas_sup = pd.DataFrame({'Fecha': fechas2, 'Precio': precios2})\n",
    "\n",
    "# Display the new dataframe\n",
    "print(datos_gas_sup)"
   ]
  },
  {
   "cell_type": "markdown",
   "id": "e8c47977",
   "metadata": {},
   "source": [
    "## Series de Tiempo Gasolina superior con aditivos y gasolina superior"
   ]
  },
  {
   "cell_type": "code",
   "execution_count": 23,
   "id": "abbf1172",
   "metadata": {},
   "outputs": [],
   "source": [
    "# importamos los paquetes necesarios\n",
    "import pandas as pd\n",
    "import numpy as np\n",
    "import matplotlib.pyplot as plt\n",
    "import statsmodels.tsa as tsa\n",
    "import statsmodels as sm\n",
    "from datetime import datetime\n",
    "from statsmodels.tsa.stattools import adfuller\n",
    "from statsmodels.tsa.seasonal import seasonal_decompose\n",
    "from statsmodels.tsa.stattools import acf, pacf\n",
    "from statsmodels.tsa.arima_model import ARIMA\n",
    "from statsmodels.tsa.statespace.sarimax import SARIMAX"
   ]
  },
  {
   "cell_type": "code",
   "execution_count": 24,
   "id": "4e577e56",
   "metadata": {},
   "outputs": [],
   "source": [
    "train_size = int(len(datos_gas_sup_ad) * 0.7)\n",
    "train_sup_ad = datos_gas_sup_ad[1:train_size]\n",
    "test_sup_ad = datos_gas_sup_ad[train_size:len(datos_gas_sup)]"
   ]
  },
  {
   "cell_type": "code",
   "execution_count": 25,
   "id": "91668040",
   "metadata": {},
   "outputs": [
    {
     "name": "stderr",
     "output_type": "stream",
     "text": [
      "/var/folders/04/fryprmks7_573d9qxr1s6bjh0000gn/T/ipykernel_984/3992269153.py:1: SettingWithCopyWarning: \n",
      "A value is trying to be set on a copy of a slice from a DataFrame\n",
      "\n",
      "See the caveats in the documentation: https://pandas.pydata.org/pandas-docs/stable/user_guide/indexing.html#returning-a-view-versus-a-copy\n",
      "  train_sup_ad.fillna(method='ffill', inplace=True)\n"
     ]
    }
   ],
   "source": [
    "train_sup_ad.fillna(method='ffill', inplace=True)"
   ]
  },
  {
   "cell_type": "code",
   "execution_count": 26,
   "id": "45818318",
   "metadata": {},
   "outputs": [
    {
     "data": {
      "text/plain": [
       "Fecha     0\n",
       "Precio    0\n",
       "dtype: int64"
      ]
     },
     "execution_count": 26,
     "metadata": {},
     "output_type": "execute_result"
    }
   ],
   "source": [
    "train_sup_ad.isna().sum()"
   ]
  },
  {
   "cell_type": "code",
   "execution_count": 27,
   "id": "28fb9299",
   "metadata": {},
   "outputs": [],
   "source": [
    "ts_sup_ad = train_sup_ad['Precio']"
   ]
  },
  {
   "cell_type": "markdown",
   "id": "49b38239",
   "metadata": {},
   "source": [
    "# Pasos para construir un modelo ARIMA \n",
    "1. Identificacion\n",
    "2. Estimacion\n",
    "3. Validacion\n",
    "4. Prediccion"
   ]
  },
  {
   "cell_type": "markdown",
   "id": "6969d82a",
   "metadata": {},
   "source": [
    "## Identificacion"
   ]
  },
  {
   "cell_type": "code",
   "execution_count": 28,
   "id": "f250de5c",
   "metadata": {},
   "outputs": [
    {
     "data": {
      "image/png": "[encoded data removed]",
      "text/plain": [
       "<Figure size 432x288 with 1 Axes>"
      ]
     },
     "metadata": {
      "needs_background": "light"
     },
     "output_type": "display_data"
    }
   ],
   "source": [
    "plt.plot(ts_sup_ad)\n",
    "plt.gca().set(title=\"Precio Combustible superior con aditivo por mes\", xlabel=\"Ano\", ylabel=\"Precio Q\")\n",
    "plt.show()"
   ]
  },
  {
   "cell_type": "code",
   "execution_count": 29,
   "id": "461ae555",
   "metadata": {},
   "outputs": [
    {
     "data": {
      "image/png": "[encoded data removed]",
      "text/plain": [
       "<Figure size 432x288 with 1 Axes>"
      ]
     },
     "metadata": {
      "needs_background": "light"
     },
     "output_type": "display_data"
    }
   ],
   "source": [
    "# Se calcula la media móvil y la desviación estandar móvil de los últimos 12 meses.\n",
    "mediaMovil = ts_sup_ad.rolling(window=12).mean()\n",
    "deMovil = ts_sup_ad.rolling(window=12).std()\n",
    "# Se grafican los resultados.\n",
    "original = plt.plot(ts_sup_ad, color=\"blue\", label=\"Original\")\n",
    "media = plt.plot(mediaMovil, color='red', label = 'Media Movil')\n",
    "ds = plt.plot(deMovil,color='black', label = 'Desviación Estándar Móvil')\n",
    "plt.legend(loc = 'best')\n",
    "plt.title('Media y desviación estándar móvil')\n",
    "plt.show(block=False)"
   ]
  },
  {
   "cell_type": "code",
   "execution_count": 31,
   "id": "53bf2b94",
   "metadata": {},
   "outputs": [
    {
     "ename": "ValueError",
     "evalue": "You must specify a period or x must be a pandas object with a PeriodIndex or a DatetimeIndex with a freq not set to None",
     "output_type": "error",
     "traceback": [
      "\u001b[0;31m---------------------------------------------------------------------------\u001b[0m",
      "\u001b[0;31mValueError\u001b[0m                                Traceback (most recent call last)",
      "Input \u001b[0;32mIn [31]\u001b[0m, in \u001b[0;36m<cell line: 1>\u001b[0;34m()\u001b[0m\n\u001b[0;32m----> 1\u001b[0m descomposicion \u001b[38;5;241m=\u001b[39m \u001b[43mseasonal_decompose\u001b[49m\u001b[43m(\u001b[49m\u001b[43mts_sup_ad\u001b[49m\u001b[43m)\u001b[49m\n\u001b[1;32m      2\u001b[0m descomposicion\u001b[38;5;241m.\u001b[39mplot()\n",
      "File \u001b[0;32m/usr/local/lib/python3.9/site-packages/statsmodels/tsa/seasonal.py:166\u001b[0m, in \u001b[0;36mseasonal_decompose\u001b[0;34m(x, model, filt, period, two_sided, extrapolate_trend)\u001b[0m\n\u001b[1;32m    164\u001b[0m         period \u001b[38;5;241m=\u001b[39m pfreq\n\u001b[1;32m    165\u001b[0m     \u001b[38;5;28;01melse\u001b[39;00m:\n\u001b[0;32m--> 166\u001b[0m         \u001b[38;5;28;01mraise\u001b[39;00m \u001b[38;5;167;01mValueError\u001b[39;00m(\n\u001b[1;32m    167\u001b[0m             \u001b[38;5;124m\"\u001b[39m\u001b[38;5;124mYou must specify a period or x must be a pandas object with \u001b[39m\u001b[38;5;124m\"\u001b[39m\n\u001b[1;32m    168\u001b[0m             \u001b[38;5;124m\"\u001b[39m\u001b[38;5;124ma PeriodIndex or a DatetimeIndex with a freq not set to None\u001b[39m\u001b[38;5;124m\"\u001b[39m\n\u001b[1;32m    169\u001b[0m         )\n\u001b[1;32m    170\u001b[0m \u001b[38;5;28;01mif\u001b[39;00m x\u001b[38;5;241m.\u001b[39mshape[\u001b[38;5;241m0\u001b[39m] \u001b[38;5;241m<\u001b[39m \u001b[38;5;241m2\u001b[39m \u001b[38;5;241m*\u001b[39m pfreq:\n\u001b[1;32m    171\u001b[0m     \u001b[38;5;28;01mraise\u001b[39;00m \u001b[38;5;167;01mValueError\u001b[39;00m(\n\u001b[1;32m    172\u001b[0m         \u001b[38;5;124mf\u001b[39m\u001b[38;5;124m\"\u001b[39m\u001b[38;5;124mx must have 2 complete cycles requires \u001b[39m\u001b[38;5;132;01m{\u001b[39;00m\u001b[38;5;241m2\u001b[39m \u001b[38;5;241m*\u001b[39m pfreq\u001b[38;5;132;01m}\u001b[39;00m\u001b[38;5;124m \u001b[39m\u001b[38;5;124m\"\u001b[39m\n\u001b[1;32m    173\u001b[0m         \u001b[38;5;124mf\u001b[39m\u001b[38;5;124m\"\u001b[39m\u001b[38;5;124mobservations. x only has \u001b[39m\u001b[38;5;132;01m{\u001b[39;00mx\u001b[38;5;241m.\u001b[39mshape[\u001b[38;5;241m0\u001b[39m]\u001b[38;5;132;01m}\u001b[39;00m\u001b[38;5;124m observation(s)\u001b[39m\u001b[38;5;124m\"\u001b[39m\n\u001b[1;32m    174\u001b[0m     )\n",
      "\u001b[0;31mValueError\u001b[0m: You must specify a period or x must be a pandas object with a PeriodIndex or a DatetimeIndex with a freq not set to None"
     ]
    }
   ],
   "source": [
    "descomposicion = seasonal_decompose(ts_sup_ad)\n",
    "descomposicion.plot()"
   ]
  },
  {
   "cell_type": "code",
   "execution_count": null,
   "id": "23307170",
   "metadata": {},
   "outputs": [],
   "source": []
  },
  {
   "cell_type": "markdown",
   "id": "2ec3f595",
   "metadata": {},
   "source": [
    "# Gasolina Regular y Diesel"
   ]
  },
  {
   "cell_type": "code",
   "execution_count": null,
   "id": "da6e0ccb",
   "metadata": {
    "scrolled": true
   },
   "outputs": [],
   "source": [
    "# creamos un dataframe leyendo la segunda hoja del excel\n",
    "df2 = pd.read_excel(\"Precios-Mensuales-promedio-combustibles-Ciudad-de-Guatemala-mayo-2023-SERVICIO-COMPLETO.xlsx\", skiprows=[0], sheet_name=\"Table 2\")\n",
    "#df2"
   ]
  },
  {
   "cell_type": "code",
   "execution_count": null,
   "id": "a40add85",
   "metadata": {
    "scrolled": true
   },
   "outputs": [],
   "source": [
    "df2\n",
    "df2.reset_index(drop=True, inplace=True)\n",
    "df2.drop(\"Unnamed: 1\", axis=1, inplace=True)\n",
    "#df2"
   ]
  },
  {
   "cell_type": "code",
   "execution_count": null,
   "id": "39da5112",
   "metadata": {},
   "outputs": [],
   "source": [
    "# separamos el dataframe en dos; uno para los datos de la gasolina regular y otro para los datos de diesel\n",
    "gasolina_regular = df2.iloc[0:12]\n",
    "diesel = df2.iloc[17:29]"
   ]
  },
  {
   "cell_type": "code",
   "execution_count": null,
   "id": "fbebe648",
   "metadata": {
    "scrolled": true
   },
   "outputs": [],
   "source": [
    "# mostramos los datos de gasolina regular\n",
    "gasolina_regular"
   ]
  },
  {
   "cell_type": "code",
   "execution_count": null,
   "id": "4f47da1c",
   "metadata": {},
   "outputs": [],
   "source": [
    "# Convertimos al formato ano-mes\n",
    "# creamos dos listas para guardar la fecha y el respectivo precio\n",
    "fechas3 = []\n",
    "precios3 = []\n",
    "\n",
    "# recorremos un ciclo con los 23 anos del dataframe\n",
    "for i in range(1, 24):\n",
    "    # recorremos los 12 meses del ano\n",
    "    for j in range(0, 12):\n",
    "        # Append the data to the lists\n",
    "        fechas3.append(str(anos[i - 1]) + \"-\" + str(meses[j]))\n",
    "        precios3.append(gasolina_regular.iloc[j, i])\n",
    "\n",
    "# Create a new dataframe with the collected data\n",
    "datos_gas_reg = pd.DataFrame({'Fecha': fechas3, 'Precio': precios3})\n",
    "\n",
    "# Display the new dataframe\n",
    "print(datos_gas_reg)"
   ]
  },
  {
   "cell_type": "code",
   "execution_count": null,
   "id": "9902b1d1",
   "metadata": {
    "scrolled": false
   },
   "outputs": [],
   "source": [
    "# mostramos los datos de diesel\n",
    "diesel"
   ]
  },
  {
   "cell_type": "code",
   "execution_count": null,
   "id": "c0285ba6",
   "metadata": {},
   "outputs": [],
   "source": [
    "# Convertimos al formato ano-mes\n",
    "# creamos dos listas para guardar la fecha y el respectivo precio\n",
    "fechas4 = []\n",
    "precios4 = []\n",
    "\n",
    "# recorremos un ciclo con los 23 anos del dataframe\n",
    "for i in range(1, 24):\n",
    "    # recorremos los 12 meses del ano\n",
    "    for j in range(0, 12):\n",
    "        # Append the data to the lists\n",
    "        fechas4.append(str(anos[i - 1]) + \"-\" + str(meses[j]))\n",
    "        precios4.append(diesel.iloc[j, i])\n",
    "\n",
    "# Create a new dataframe with the collected data\n",
    "datos_diesel = pd.DataFrame({'Fecha': fechas4, 'Precio': precios4})\n",
    "\n",
    "# Display the new dataframe\n",
    "print(datos_diesel)"
   ]
  },
  {
   "cell_type": "markdown",
   "id": "5010d70f",
   "metadata": {},
   "source": [
    "## Series de Tiempo Gasolina Regular y Diesel"
   ]
  },
  {
   "cell_type": "code",
   "execution_count": null,
   "id": "5ec6aa62",
   "metadata": {},
   "outputs": [],
   "source": []
  }
 ],
 "metadata": {
  "kernelspec": {
   "display_name": "Python 3 (ipykernel)",
   "language": "python",
   "name": "python3"
  },
  "language_info": {
   "codemirror_mode": {
    "name": "ipython",
    "version": 3
   },
   "file_extension": ".py",
   "mimetype": "text/x-python",
   "name": "python",
   "nbconvert_exporter": "python",
   "pygments_lexer": "ipython3",
   "version": "3.9.4"
  }
 },
 "nbformat": 4,
 "nbformat_minor": 5
}
